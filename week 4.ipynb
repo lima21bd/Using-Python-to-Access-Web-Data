{
 "cells": [
  {
   "cell_type": "code",
   "execution_count": 4,
   "metadata": {},
   "outputs": [
    {
     "name": "stdout",
     "output_type": "stream",
     "text": [
      "Enter - http://py4e-data.dr-chuck.net/comments_468289.html\n",
      "Count 50\n",
      "Sum 2367\n"
     ]
    }
   ],
   "source": [
    "from urllib.request import urlopen\n",
    "from bs4 import BeautifulSoup\n",
    "import ssl\n",
    "\n",
    "ctx = ssl.create_default_context()\n",
    "ctx.check_hostname = False\n",
    "ctx.verify_mode = ssl.CERT_NONE\n",
    "\n",
    "url = input('Enter - ')\n",
    "html = urlopen(url, context=ctx).read()\n",
    "soup = BeautifulSoup(html, \"html.parser\")\n",
    "\n",
    "tags = soup('span')\n",
    "\n",
    "\n",
    "\n",
    "count = 0\n",
    "\n",
    "tot = 0\n",
    "\n",
    "for tag in tags:\n",
    "    \n",
    "    count += 1\n",
    "    \n",
    "    store = int(tag.string)\n",
    "    \n",
    "    tot = tot + store\n",
    "    \n",
    "print ('Count', count)  \n",
    "print ('Sum', tot)"
   ]
  },
  {
   "cell_type": "code",
   "execution_count": 3,
   "metadata": {},
   "outputs": [
    {
     "name": "stdout",
     "output_type": "stream",
     "text": [
      "Enter URL: http://py4e-data.dr-chuck.net/known_by_Fikret.html\n",
      "Enter count: 4\n",
      "Enter position: 3\n",
      "Retrieving:  http://py4e-data.dr-chuck.net/known_by_Fikret.html\n",
      "Retrieving:  http://py4e-data.dr-chuck.net/known_by_Montgomery.html\n",
      "Retrieving:  http://py4e-data.dr-chuck.net/known_by_Mhairade.html\n",
      "Retrieving:  http://py4e-data.dr-chuck.net/known_by_Butchi.html\n",
      "Retrieving:  http://py4e-data.dr-chuck.net/known_by_Anayah.html\n"
     ]
    }
   ],
   "source": [
    "import urllib.request, urllib.parse, urllib.error\n",
    "from bs4 import BeautifulSoup\n",
    "import ssl\n",
    "ctx = ssl.create_default_context()\n",
    "ctx.check_hostname = False\n",
    "ctx.verify_mode = ssl.CERT_NONE\n",
    "\n",
    "url = input('Enter URL: ')\n",
    "num = input('Enter count: ')\n",
    "pos = input('Enter position: ')\n",
    "print('Retrieving: ', url)\n",
    "\n",
    "\n",
    "for times in range(int(num)):\n",
    "    html = urllib.request.urlopen(url, context=ctx).read()\n",
    "    soup = BeautifulSoup(html, 'html.parser')\n",
    "    tags = soup('a')\n",
    "    print('Retrieving: ', tags[int(pos)-1].get('href', None))\n",
    "    url = tags[int(pos)-1].get('href', None)"
   ]
  },
  {
   "cell_type": "code",
   "execution_count": 1,
   "metadata": {},
   "outputs": [
    {
     "name": "stdout",
     "output_type": "stream",
     "text": [
      "Enter URL:http://py4e-data.dr-chuck.net/known_by_Fikret.html\n",
      "Enter count:4\n",
      "Enter position:3\n",
      "Retrieving:  http://py4e-data.dr-chuck.net/known_by_Fikret.html\n",
      "Retrieving:  http://py4e-data.dr-chuck.net/known_by_Montgomery.html\n",
      "Retrieving:  http://py4e-data.dr-chuck.net/known_by_Montgomery.html\n",
      "Retrieving:  http://py4e-data.dr-chuck.net/known_by_Montgomery.html\n",
      "Retrieving:  http://py4e-data.dr-chuck.net/known_by_Montgomery.html\n"
     ]
    }
   ],
   "source": [
    "import urllib.request, urllib.parse, urllib.error\n",
    "from bs4 import BeautifulSoup\n",
    "import ssl\n",
    "\n",
    "ctx = ssl.create_default_context()\n",
    "ctx.check_hostname = False\n",
    "ctx.verify_mode = ssl.CERT_NONE\n",
    "\n",
    "\n",
    "url = input('Enter URL:')\n",
    "count = int(input('Enter count:'))\n",
    "position = int(input('Enter position:')) - 1\n",
    "\n",
    "print('Retrieving: ', url)\n",
    "\n",
    "for time in range(count):\n",
    "    \n",
    "    html = urllib.request.urlopen(url, context=ctx).read()\n",
    "    soup = BeautifulSoup(html, 'html.parser')\n",
    "    tags = soup('a')\n",
    "    \n",
    "    print('Retrieving: ', tags[position].get('href', None))\n",
    "    \n"
   ]
  },
  {
   "cell_type": "code",
   "execution_count": null,
   "metadata": {},
   "outputs": [],
   "source": []
  },
  {
   "cell_type": "code",
   "execution_count": null,
   "metadata": {},
   "outputs": [],
   "source": []
  }
 ],
 "metadata": {
  "kernelspec": {
   "display_name": "Python 3",
   "language": "python",
   "name": "python3"
  },
  "language_info": {
   "codemirror_mode": {
    "name": "ipython",
    "version": 3
   },
   "file_extension": ".py",
   "mimetype": "text/x-python",
   "name": "python",
   "nbconvert_exporter": "python",
   "pygments_lexer": "ipython3",
   "version": "3.7.4"
  }
 },
 "nbformat": 4,
 "nbformat_minor": 2
}
