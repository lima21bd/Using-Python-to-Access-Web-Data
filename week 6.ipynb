{
 "cells": [
  {
   "cell_type": "code",
   "execution_count": 1,
   "metadata": {},
   "outputs": [
    {
     "name": "stdout",
     "output_type": "stream",
     "text": [
      "Enter location:http://py4e-data.dr-chuck.net/comments_468292.json\n",
      "Retrieving http://py4e-data.dr-chuck.net/comments_468292.json\n",
      "Retrieved 2718 characters\n",
      "Count: 50\n",
      "Sum: 2437\n"
     ]
    }
   ],
   "source": [
    "import urllib.request, urllib.parse, urllib.error\n",
    "import json\n",
    "\n",
    "url = input('Enter location:')\n",
    "\n",
    "print('Retrieving', url)\n",
    "\n",
    "data = urllib.request.urlopen(url).read()\n",
    "\n",
    "print ('Retrieved', len(data), 'characters')\n",
    "\n",
    "info = json.loads(data)\n",
    "\n",
    "lst = info['comments']\n",
    "\n",
    "print( 'Count:', len(lst) )\n",
    "\n",
    "tot = 0\n",
    "\n",
    "for item in lst:\n",
    "\n",
    "    tot = tot + int(item['count'])\n",
    "    \n",
    "print('Sum:', tot)"
   ]
  },
  {
   "cell_type": "code",
   "execution_count": 3,
   "metadata": {},
   "outputs": [
    {
     "name": "stdout",
     "output_type": "stream",
     "text": [
      "Enter location: University Munich\n",
      "Retrieving http://py4e-data.dr-chuck.net/json?address=University+Munich&key=42 \n",
      "Retrieved 2271 caracters\n",
      "Place id ChIJEYxtM2FynkcRnfFb3ERNoHk\n"
     ]
    }
   ],
   "source": [
    "import urllib.request, urllib.parse, urllib.error\n",
    "import json\n",
    "\n",
    "serviceurl = 'http://py4e-data.dr-chuck.net/json?'\n",
    "\n",
    "address = input('Enter location: ')\n",
    "\n",
    "url = serviceurl + urllib.parse.urlencode({'address':  address, 'key': 42})\n",
    "\n",
    "data = urllib.request.urlopen(url).read().decode()\n",
    "\n",
    "info = json.loads(data)\n",
    "\n",
    "info = info['results']\n",
    "\n",
    "print ('Retrieving', url, '\\nRetrieved', len(data), 'caracters')\n",
    "\n",
    "for item in info:\n",
    "    \n",
    "    key = item['place_id']\n",
    "    \n",
    "print ('Place id', key)"
   ]
  },
  {
   "cell_type": "code",
   "execution_count": null,
   "metadata": {},
   "outputs": [],
   "source": []
  },
  {
   "cell_type": "code",
   "execution_count": null,
   "metadata": {},
   "outputs": [],
   "source": []
  }
 ],
 "metadata": {
  "kernelspec": {
   "display_name": "Python 3",
   "language": "python",
   "name": "python3"
  },
  "language_info": {
   "codemirror_mode": {
    "name": "ipython",
    "version": 3
   },
   "file_extension": ".py",
   "mimetype": "text/x-python",
   "name": "python",
   "nbconvert_exporter": "python",
   "pygments_lexer": "ipython3",
   "version": "3.7.4"
  }
 },
 "nbformat": 4,
 "nbformat_minor": 2
}
