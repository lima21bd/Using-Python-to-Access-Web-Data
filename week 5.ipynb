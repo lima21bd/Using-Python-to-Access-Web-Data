{
 "cells": [
  {
   "cell_type": "code",
   "execution_count": 8,
   "metadata": {},
   "outputs": [
    {
     "name": "stdout",
     "output_type": "stream",
     "text": [
      "Enter location:http://py4e-data.dr-chuck.net/comments_42.xml\n",
      "Retrieving http://py4e-data.dr-chuck.net/comments_42.xml\n",
      "Retrieved 4189 characters\n",
      "Count: 50\n",
      "Sum: 2553\n"
     ]
    }
   ],
   "source": [
    "import urllib.request, urllib.parse, urllib.error\n",
    "import xml.etree.ElementTree as ET\n",
    "import ssl\n",
    "\n",
    "ctx = ssl.create_default_context()\n",
    "ctx.check_hostname = False\n",
    "ctx.verify_mode = ssl.CERT_NONE\n",
    "\n",
    "url = input('Enter location:')\n",
    "\n",
    "print('Retrieving', url)\n",
    "\n",
    "xml = urllib.request.urlopen(url, context=ctx).read()\n",
    "\n",
    "print ('Retrieved', len(xml), 'characters')\n",
    "\n",
    "tree = ET.fromstring(xml)\n",
    "\n",
    "lst = tree.findall('comments/comment')\n",
    "\n",
    "print( 'Count:', len(lst) )\n",
    "\n",
    "tot = 0\n",
    "\n",
    "for item in lst:\n",
    "    \n",
    "    tot = tot + int( item.find('count').text ) \n",
    "    \n",
    "print('Sum:', tot)"
   ]
  },
  {
   "cell_type": "code",
   "execution_count": null,
   "metadata": {},
   "outputs": [],
   "source": []
  }
 ],
 "metadata": {
  "kernelspec": {
   "display_name": "Python 3",
   "language": "python",
   "name": "python3"
  },
  "language_info": {
   "codemirror_mode": {
    "name": "ipython",
    "version": 3
   },
   "file_extension": ".py",
   "mimetype": "text/x-python",
   "name": "python",
   "nbconvert_exporter": "python",
   "pygments_lexer": "ipython3",
   "version": "3.7.4"
  }
 },
 "nbformat": 4,
 "nbformat_minor": 2
}
