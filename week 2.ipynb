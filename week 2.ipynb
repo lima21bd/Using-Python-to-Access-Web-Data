{
 "cells": [
  {
   "cell_type": "code",
   "execution_count": 7,
   "metadata": {},
   "outputs": [
    {
     "name": "stdout",
     "output_type": "stream",
     "text": [
      "445833\n"
     ]
    }
   ],
   "source": [
    "import re\n",
    "\n",
    "file_open = open('sample.txt')\n",
    "emp_list = []\n",
    "tot = 0\n",
    "for line in file_open:\n",
    "    \n",
    "    s = re.findall('[0-9]+', line)\n",
    "    \n",
    "    emp_list = emp_list + s\n",
    "    \n",
    "for x in emp_list:\n",
    "        \n",
    "    convTodigit = int(x)\n",
    "        \n",
    "    tot =  tot + convTodigit\n",
    "print(tot)"
   ]
  },
  {
   "cell_type": "code",
   "execution_count": null,
   "metadata": {},
   "outputs": [],
   "source": []
  },
  {
   "cell_type": "code",
   "execution_count": null,
   "metadata": {},
   "outputs": [],
   "source": []
  }
 ],
 "metadata": {
  "kernelspec": {
   "display_name": "Python 3",
   "language": "python",
   "name": "python3"
  },
  "language_info": {
   "codemirror_mode": {
    "name": "ipython",
    "version": 3
   },
   "file_extension": ".py",
   "mimetype": "text/x-python",
   "name": "python",
   "nbconvert_exporter": "python",
   "pygments_lexer": "ipython3",
   "version": "3.7.4"
  }
 },
 "nbformat": 4,
 "nbformat_minor": 2
}
